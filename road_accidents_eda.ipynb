{
 "cells": [
  {
   "cell_type": "code",
   "execution_count": 1,
   "id": "2e90b0ae-f19b-449c-ac1c-6b5a1f18675d",
   "metadata": {
    "scrolled": true
   },
   "outputs": [
    {
     "name": "stdout",
     "output_type": "stream",
     "text": [
      "           Time Day_of_week Age_band_of_driver Sex_of_driver  \\\n",
      "0      17:02:00      Monday              18-30          Male   \n",
      "1      17:02:00      Monday              31-50          Male   \n",
      "2      17:02:00      Monday              18-30          Male   \n",
      "3       1:06:00      Sunday              18-30          Male   \n",
      "4       1:06:00      Sunday              18-30          Male   \n",
      "...         ...         ...                ...           ...   \n",
      "12311  16:15:00   Wednesday              31-50          Male   \n",
      "12312  18:00:00      Sunday            Unknown          Male   \n",
      "12313  13:55:00      Sunday            Over 51          Male   \n",
      "12314  13:55:00      Sunday              18-30        Female   \n",
      "12315  13:55:00      Sunday              18-30          Male   \n",
      "\n",
      "        Educational_level Vehicle_driver_relation Driving_experience  \\\n",
      "0       Above high school                Employee              1-2yr   \n",
      "1      Junior high school                Employee         Above 10yr   \n",
      "2      Junior high school                Employee              1-2yr   \n",
      "3      Junior high school                Employee             5-10yr   \n",
      "4      Junior high school                Employee              2-5yr   \n",
      "...                   ...                     ...                ...   \n",
      "12311                 NaN                Employee              2-5yr   \n",
      "12312   Elementary school                Employee             5-10yr   \n",
      "12313  Junior high school                Employee             5-10yr   \n",
      "12314  Junior high school                Employee         Above 10yr   \n",
      "12315  Junior high school                Employee             5-10yr   \n",
      "\n",
      "           Type_of_vehicle Owner_of_vehicle Service_year_of_vehicle  ...  \\\n",
      "0               Automobile            Owner              Above 10yr  ...   \n",
      "1      Public (> 45 seats)            Owner                 5-10yrs  ...   \n",
      "2          Lorry (41?100Q)            Owner                     NaN  ...   \n",
      "3      Public (> 45 seats)     Governmental                     NaN  ...   \n",
      "4                      NaN            Owner                 5-10yrs  ...   \n",
      "...                    ...              ...                     ...  ...   \n",
      "12311       Lorry (11?40Q)            Owner                     NaN  ...   \n",
      "12312           Automobile            Owner                     NaN  ...   \n",
      "12313                Bajaj            Owner                  2-5yrs  ...   \n",
      "12314      Lorry (41?100Q)            Owner                  2-5yrs  ...   \n",
      "12315                Other            Owner                  2-5yrs  ...   \n",
      "\n",
      "      Vehicle_movement   Casualty_class Sex_of_casualty Age_band_of_casualty  \\\n",
      "0       Going straight               na              na                   na   \n",
      "1       Going straight               na              na                   na   \n",
      "2       Going straight  Driver or rider            Male                31-50   \n",
      "3       Going straight       Pedestrian          Female                18-30   \n",
      "4       Going straight               na              na                   na   \n",
      "...                ...              ...             ...                  ...   \n",
      "12311   Going straight               na              na                   na   \n",
      "12312            Other               na              na                   na   \n",
      "12313            Other  Driver or rider            Male                31-50   \n",
      "12314            Other               na              na                   na   \n",
      "12315         Stopping       Pedestrian          Female                    5   \n",
      "\n",
      "      Casualty_severity Work_of_casuality Fitness_of_casuality  \\\n",
      "0                    na               NaN                  NaN   \n",
      "1                    na               NaN                  NaN   \n",
      "2                     3            Driver                  NaN   \n",
      "3                     3            Driver               Normal   \n",
      "4                    na               NaN                  NaN   \n",
      "...                 ...               ...                  ...   \n",
      "12311                na            Driver               Normal   \n",
      "12312                na            Driver               Normal   \n",
      "12313                 3            Driver               Normal   \n",
      "12314                na            Driver               Normal   \n",
      "12315                 3            Driver               Normal   \n",
      "\n",
      "                                     Pedestrian_movement  \\\n",
      "0                                       Not a Pedestrian   \n",
      "1                                       Not a Pedestrian   \n",
      "2                                       Not a Pedestrian   \n",
      "3                                       Not a Pedestrian   \n",
      "4                                       Not a Pedestrian   \n",
      "...                                                  ...   \n",
      "12311                                   Not a Pedestrian   \n",
      "12312                                   Not a Pedestrian   \n",
      "12313                                   Not a Pedestrian   \n",
      "12314                                   Not a Pedestrian   \n",
      "12315  Crossing from nearside - masked by parked or s...   \n",
      "\n",
      "                          Cause_of_accident Accident_severity  \n",
      "0                           Moving Backward     Slight Injury  \n",
      "1                                Overtaking     Slight Injury  \n",
      "2                 Changing lane to the left    Serious Injury  \n",
      "3                Changing lane to the right     Slight Injury  \n",
      "4                                Overtaking     Slight Injury  \n",
      "...                                     ...               ...  \n",
      "12311                         No distancing     Slight Injury  \n",
      "12312                         No distancing     Slight Injury  \n",
      "12313            Changing lane to the right    Serious Injury  \n",
      "12314  Driving under the influence of drugs     Slight Injury  \n",
      "12315            Changing lane to the right     Slight Injury  \n",
      "\n",
      "[12316 rows x 32 columns]\n"
     ]
    }
   ],
   "source": [
    "import pandas as pd\n",
    "df=pd.read_csv(r\"C:\\Users\\SRINU\\Downloads\\road_acc.csv\")\n",
    "print(df)"
   ]
  },
  {
   "cell_type": "code",
   "execution_count": 2,
   "id": "62cf2e98-d458-41b7-a22d-3f435ed390af",
   "metadata": {
    "scrolled": true
   },
   "outputs": [
    {
     "name": "stdout",
     "output_type": "stream",
     "text": [
      "Time                              0\n",
      "Day_of_week                       0\n",
      "Age_band_of_driver                0\n",
      "Sex_of_driver                     0\n",
      "Educational_level               741\n",
      "Vehicle_driver_relation         579\n",
      "Driving_experience              829\n",
      "Type_of_vehicle                 950\n",
      "Owner_of_vehicle                482\n",
      "Service_year_of_vehicle        3928\n",
      "Defect_of_vehicle              4427\n",
      "Area_accident_occured           239\n",
      "Lanes_or_Medians                385\n",
      "Road_allignment                 142\n",
      "Types_of_Junction               887\n",
      "Road_surface_type               172\n",
      "Road_surface_conditions           0\n",
      "Light_conditions                  0\n",
      "Weather_conditions                0\n",
      "Type_of_collision               155\n",
      "Number_of_vehicles_involved       0\n",
      "Number_of_casualties              0\n",
      "Vehicle_movement                308\n",
      "Casualty_class                    0\n",
      "Sex_of_casualty                   0\n",
      "Age_band_of_casualty              0\n",
      "Casualty_severity                 0\n",
      "Work_of_casuality              3198\n",
      "Fitness_of_casuality           2635\n",
      "Pedestrian_movement               0\n",
      "Cause_of_accident                 0\n",
      "Accident_severity                 0\n",
      "dtype: int64\n",
      "Time                            0.000000\n",
      "Day_of_week                     0.000000\n",
      "Age_band_of_driver              0.000000\n",
      "Sex_of_driver                   0.000000\n",
      "Educational_level               6.016564\n",
      "Vehicle_driver_relation         4.701202\n",
      "Driving_experience              6.731082\n",
      "Type_of_vehicle                 7.713543\n",
      "Owner_of_vehicle                3.913608\n",
      "Service_year_of_vehicle        31.893472\n",
      "Defect_of_vehicle              35.945112\n",
      "Area_accident_occured           1.940565\n",
      "Lanes_or_Medians                3.126015\n",
      "Road_allignment                 1.152972\n",
      "Types_of_Junction               7.202014\n",
      "Road_surface_type               1.396557\n",
      "Road_surface_conditions         0.000000\n",
      "Light_conditions                0.000000\n",
      "Weather_conditions              0.000000\n",
      "Type_of_collision               1.258525\n",
      "Number_of_vehicles_involved     0.000000\n",
      "Number_of_casualties            0.000000\n",
      "Vehicle_movement                2.500812\n",
      "Casualty_class                  0.000000\n",
      "Sex_of_casualty                 0.000000\n",
      "Age_band_of_casualty            0.000000\n",
      "Casualty_severity               0.000000\n",
      "Work_of_casuality              25.966223\n",
      "Fitness_of_casuality           21.394933\n",
      "Pedestrian_movement             0.000000\n",
      "Cause_of_accident               0.000000\n",
      "Accident_severity               0.000000\n",
      "dtype: float64\n"
     ]
    }
   ],
   "source": [
    "print(df.isnull().sum())\n",
    "print((df.isnull().mean())*100)"
   ]
  },
  {
   "cell_type": "code",
   "execution_count": 3,
   "id": "069d9b8e-8f2d-4c64-bceb-1e9ad28ef1e1",
   "metadata": {},
   "outputs": [
    {
     "name": "stdout",
     "output_type": "stream",
     "text": [
      "           Time Day_of_week Age_band_of_driver Sex_of_driver  \\\n",
      "0      17:02:00      Monday              18-30          Male   \n",
      "1      17:02:00      Monday              31-50          Male   \n",
      "2      17:02:00      Monday              18-30          Male   \n",
      "3       1:06:00      Sunday              18-30          Male   \n",
      "4       1:06:00      Sunday              18-30          Male   \n",
      "...         ...         ...                ...           ...   \n",
      "12311  16:15:00   Wednesday              31-50          Male   \n",
      "12312  18:00:00      Sunday            Unknown          Male   \n",
      "12313  13:55:00      Sunday            Over 51          Male   \n",
      "12314  13:55:00      Sunday              18-30        Female   \n",
      "12315  13:55:00      Sunday              18-30          Male   \n",
      "\n",
      "        Educational_level Vehicle_driver_relation Driving_experience  \\\n",
      "0       Above high school                Employee              1-2yr   \n",
      "1      Junior high school                Employee         Above 10yr   \n",
      "2      Junior high school                Employee              1-2yr   \n",
      "3      Junior high school                Employee             5-10yr   \n",
      "4      Junior high school                Employee              2-5yr   \n",
      "...                   ...                     ...                ...   \n",
      "12311  Junior high school                Employee              2-5yr   \n",
      "12312   Elementary school                Employee             5-10yr   \n",
      "12313  Junior high school                Employee             5-10yr   \n",
      "12314  Junior high school                Employee         Above 10yr   \n",
      "12315  Junior high school                Employee             5-10yr   \n",
      "\n",
      "           Type_of_vehicle Owner_of_vehicle Service_year_of_vehicle  ...  \\\n",
      "0               Automobile            Owner              Above 10yr  ...   \n",
      "1      Public (> 45 seats)            Owner                 5-10yrs  ...   \n",
      "2          Lorry (41?100Q)            Owner                     NaN  ...   \n",
      "3      Public (> 45 seats)     Governmental                     NaN  ...   \n",
      "4               Automobile            Owner                 5-10yrs  ...   \n",
      "...                    ...              ...                     ...  ...   \n",
      "12311       Lorry (11?40Q)            Owner                     NaN  ...   \n",
      "12312           Automobile            Owner                     NaN  ...   \n",
      "12313                Bajaj            Owner                  2-5yrs  ...   \n",
      "12314      Lorry (41?100Q)            Owner                  2-5yrs  ...   \n",
      "12315                Other            Owner                  2-5yrs  ...   \n",
      "\n",
      "      Vehicle_movement   Casualty_class Sex_of_casualty Age_band_of_casualty  \\\n",
      "0       Going straight               na              na                   na   \n",
      "1       Going straight               na              na                   na   \n",
      "2       Going straight  Driver or rider            Male                31-50   \n",
      "3       Going straight       Pedestrian          Female                18-30   \n",
      "4       Going straight               na              na                   na   \n",
      "...                ...              ...             ...                  ...   \n",
      "12311   Going straight               na              na                   na   \n",
      "12312            Other               na              na                   na   \n",
      "12313            Other  Driver or rider            Male                31-50   \n",
      "12314            Other               na              na                   na   \n",
      "12315         Stopping       Pedestrian          Female                    5   \n",
      "\n",
      "      Casualty_severity Work_of_casuality Fitness_of_casuality  \\\n",
      "0                    na               NaN                  NaN   \n",
      "1                    na               NaN                  NaN   \n",
      "2                     3            Driver                  NaN   \n",
      "3                     3            Driver               Normal   \n",
      "4                    na               NaN                  NaN   \n",
      "...                 ...               ...                  ...   \n",
      "12311                na            Driver               Normal   \n",
      "12312                na            Driver               Normal   \n",
      "12313                 3            Driver               Normal   \n",
      "12314                na            Driver               Normal   \n",
      "12315                 3            Driver               Normal   \n",
      "\n",
      "                                     Pedestrian_movement  \\\n",
      "0                                       Not a Pedestrian   \n",
      "1                                       Not a Pedestrian   \n",
      "2                                       Not a Pedestrian   \n",
      "3                                       Not a Pedestrian   \n",
      "4                                       Not a Pedestrian   \n",
      "...                                                  ...   \n",
      "12311                                   Not a Pedestrian   \n",
      "12312                                   Not a Pedestrian   \n",
      "12313                                   Not a Pedestrian   \n",
      "12314                                   Not a Pedestrian   \n",
      "12315  Crossing from nearside - masked by parked or s...   \n",
      "\n",
      "                          Cause_of_accident Accident_severity  \n",
      "0                           Moving Backward     Slight Injury  \n",
      "1                                Overtaking     Slight Injury  \n",
      "2                 Changing lane to the left    Serious Injury  \n",
      "3                Changing lane to the right     Slight Injury  \n",
      "4                                Overtaking     Slight Injury  \n",
      "...                                     ...               ...  \n",
      "12311                         No distancing     Slight Injury  \n",
      "12312                         No distancing     Slight Injury  \n",
      "12313            Changing lane to the right    Serious Injury  \n",
      "12314  Driving under the influence of drugs     Slight Injury  \n",
      "12315            Changing lane to the right     Slight Injury  \n",
      "\n",
      "[12316 rows x 32 columns]\n"
     ]
    }
   ],
   "source": [
    "s=[\"Educational_level\",\"Vehicle_driver_relation\",\"Vehicle_driver_relation\",\"Driving_experience\",\"Type_of_vehicle\",\n",
    "   \"Owner_of_vehicle\",\"Area_accident_occured\",\"Lanes_or_Medians\",\"Road_allignment\",\"Types_of_Junction\",\"Road_surface_type\"\n",
    "   ,\"Type_of_collision\"]\n",
    "for i in s:\n",
    "    df[i]=df[i].fillna(df[i].mode()[0])\n",
    "print(df)"
   ]
  },
  {
   "cell_type": "code",
   "execution_count": 4,
   "id": "610c6ae4-4996-41d8-a37e-7a499a591d26",
   "metadata": {},
   "outputs": [
    {
     "name": "stdout",
     "output_type": "stream",
     "text": [
      "           Time Day_of_week Age_band_of_driver Sex_of_driver  \\\n",
      "0      17:02:00      Monday              18-30          Male   \n",
      "1      17:02:00      Monday              31-50          Male   \n",
      "2      17:02:00      Monday              18-30          Male   \n",
      "3       1:06:00      Sunday              18-30          Male   \n",
      "4       1:06:00      Sunday              18-30          Male   \n",
      "...         ...         ...                ...           ...   \n",
      "12311  16:15:00   Wednesday              31-50          Male   \n",
      "12312  18:00:00      Sunday            Unknown          Male   \n",
      "12313  13:55:00      Sunday            Over 51          Male   \n",
      "12314  13:55:00      Sunday              18-30        Female   \n",
      "12315  13:55:00      Sunday              18-30          Male   \n",
      "\n",
      "        Educational_level Vehicle_driver_relation Driving_experience  \\\n",
      "0       Above high school                Employee              1-2yr   \n",
      "1      Junior high school                Employee         Above 10yr   \n",
      "2      Junior high school                Employee              1-2yr   \n",
      "3      Junior high school                Employee             5-10yr   \n",
      "4      Junior high school                Employee              2-5yr   \n",
      "...                   ...                     ...                ...   \n",
      "12311  Junior high school                Employee              2-5yr   \n",
      "12312   Elementary school                Employee             5-10yr   \n",
      "12313  Junior high school                Employee             5-10yr   \n",
      "12314  Junior high school                Employee         Above 10yr   \n",
      "12315  Junior high school                Employee             5-10yr   \n",
      "\n",
      "           Type_of_vehicle Owner_of_vehicle Service_year_of_vehicle  ...  \\\n",
      "0               Automobile            Owner              Above 10yr  ...   \n",
      "1      Public (> 45 seats)            Owner                 5-10yrs  ...   \n",
      "2          Lorry (41?100Q)            Owner                 unknown  ...   \n",
      "3      Public (> 45 seats)     Governmental                 unknown  ...   \n",
      "4               Automobile            Owner                 5-10yrs  ...   \n",
      "...                    ...              ...                     ...  ...   \n",
      "12311       Lorry (11?40Q)            Owner                 unknown  ...   \n",
      "12312           Automobile            Owner                 unknown  ...   \n",
      "12313                Bajaj            Owner                  2-5yrs  ...   \n",
      "12314      Lorry (41?100Q)            Owner                  2-5yrs  ...   \n",
      "12315                Other            Owner                  2-5yrs  ...   \n",
      "\n",
      "      Vehicle_movement   Casualty_class Sex_of_casualty Age_band_of_casualty  \\\n",
      "0       Going straight               na              na                   na   \n",
      "1       Going straight               na              na                   na   \n",
      "2       Going straight  Driver or rider            Male                31-50   \n",
      "3       Going straight       Pedestrian          Female                18-30   \n",
      "4       Going straight               na              na                   na   \n",
      "...                ...              ...             ...                  ...   \n",
      "12311   Going straight               na              na                   na   \n",
      "12312            Other               na              na                   na   \n",
      "12313            Other  Driver or rider            Male                31-50   \n",
      "12314            Other               na              na                   na   \n",
      "12315         Stopping       Pedestrian          Female                    5   \n",
      "\n",
      "      Casualty_severity Work_of_casuality Fitness_of_casuality  \\\n",
      "0                    na           unknown              unknown   \n",
      "1                    na           unknown              unknown   \n",
      "2                     3            Driver              unknown   \n",
      "3                     3            Driver               Normal   \n",
      "4                    na           unknown              unknown   \n",
      "...                 ...               ...                  ...   \n",
      "12311                na            Driver               Normal   \n",
      "12312                na            Driver               Normal   \n",
      "12313                 3            Driver               Normal   \n",
      "12314                na            Driver               Normal   \n",
      "12315                 3            Driver               Normal   \n",
      "\n",
      "                                     Pedestrian_movement  \\\n",
      "0                                       Not a Pedestrian   \n",
      "1                                       Not a Pedestrian   \n",
      "2                                       Not a Pedestrian   \n",
      "3                                       Not a Pedestrian   \n",
      "4                                       Not a Pedestrian   \n",
      "...                                                  ...   \n",
      "12311                                   Not a Pedestrian   \n",
      "12312                                   Not a Pedestrian   \n",
      "12313                                   Not a Pedestrian   \n",
      "12314                                   Not a Pedestrian   \n",
      "12315  Crossing from nearside - masked by parked or s...   \n",
      "\n",
      "                          Cause_of_accident Accident_severity  \n",
      "0                           Moving Backward     Slight Injury  \n",
      "1                                Overtaking     Slight Injury  \n",
      "2                 Changing lane to the left    Serious Injury  \n",
      "3                Changing lane to the right     Slight Injury  \n",
      "4                                Overtaking     Slight Injury  \n",
      "...                                     ...               ...  \n",
      "12311                         No distancing     Slight Injury  \n",
      "12312                         No distancing     Slight Injury  \n",
      "12313            Changing lane to the right    Serious Injury  \n",
      "12314  Driving under the influence of drugs     Slight Injury  \n",
      "12315            Changing lane to the right     Slight Injury  \n",
      "\n",
      "[12316 rows x 32 columns]\n"
     ]
    }
   ],
   "source": [
    "l=[\"Service_year_of_vehicle\",\"Defect_of_vehicle\",\"Work_of_casuality\",\"Fitness_of_casuality\"]\n",
    "for i in l:\n",
    "    df[i]=df[i].fillna(\"unknown\")\n",
    "print(df)"
   ]
  },
  {
   "cell_type": "code",
   "execution_count": 5,
   "id": "16259777-a1e5-481a-9ccc-2141b5fd1257",
   "metadata": {},
   "outputs": [
    {
     "name": "stdout",
     "output_type": "stream",
     "text": [
      "Time                           0.000000\n",
      "Day_of_week                    0.000000\n",
      "Age_band_of_driver             0.000000\n",
      "Sex_of_driver                  0.000000\n",
      "Educational_level              0.000000\n",
      "Vehicle_driver_relation        0.000000\n",
      "Driving_experience             0.000000\n",
      "Type_of_vehicle                0.000000\n",
      "Owner_of_vehicle               0.000000\n",
      "Service_year_of_vehicle        0.000000\n",
      "Defect_of_vehicle              0.000000\n",
      "Area_accident_occured          0.000000\n",
      "Lanes_or_Medians               0.000000\n",
      "Road_allignment                0.000000\n",
      "Types_of_Junction              0.000000\n",
      "Road_surface_type              0.000000\n",
      "Road_surface_conditions        0.000000\n",
      "Light_conditions               0.000000\n",
      "Weather_conditions             0.000000\n",
      "Type_of_collision              0.000000\n",
      "Number_of_vehicles_involved    0.000000\n",
      "Number_of_casualties           0.000000\n",
      "Vehicle_movement               2.500812\n",
      "Casualty_class                 0.000000\n",
      "Sex_of_casualty                0.000000\n",
      "Age_band_of_casualty           0.000000\n",
      "Casualty_severity              0.000000\n",
      "Work_of_casuality              0.000000\n",
      "Fitness_of_casuality           0.000000\n",
      "Pedestrian_movement            0.000000\n",
      "Cause_of_accident              0.000000\n",
      "Accident_severity              0.000000\n",
      "dtype: float64\n"
     ]
    }
   ],
   "source": [
    "print(df.isnull().mean()*100)"
   ]
  },
  {
   "cell_type": "code",
   "execution_count": 6,
   "id": "dd2ab026-4869-4024-bc91-28f2d3f373c9",
   "metadata": {},
   "outputs": [],
   "source": [
    "df[\"Vehicle_movement\"]=df[\"Vehicle_movement\"].fillna(df[\"Vehicle_movement\"].mode()[0])\n"
   ]
  },
  {
   "cell_type": "code",
   "execution_count": 7,
   "id": "9be60873-8bbf-4a50-8a22-ebb50f772a6d",
   "metadata": {},
   "outputs": [],
   "source": [
    "!git config --global user.name \"p-venkatesh3005\"\n",
    "!git config --global user.email \"venkatesh2005p@gmail.com\""
   ]
  },
  {
   "cell_type": "code",
   "execution_count": 8,
   "id": "83aa8d25-29a2-4b37-a909-0724d1fc2bbd",
   "metadata": {},
   "outputs": [
    {
     "name": "stdout",
     "output_type": "stream",
     "text": [
      "p-venkatesh3005\n"
     ]
    }
   ],
   "source": [
    "!git config --global user.name\n"
   ]
  },
  {
   "cell_type": "code",
   "execution_count": 9,
   "id": "7ddea733-047f-420f-a286-829653d0e634",
   "metadata": {},
   "outputs": [
    {
     "name": "stdout",
     "output_type": "stream",
     "text": [
      "           Time Day_of_week Age_band_of_driver Sex_of_driver  \\\n",
      "0      17:02:00      Monday              18-30          Male   \n",
      "1      17:02:00      Monday              31-50          Male   \n",
      "2      17:02:00      Monday              18-30          Male   \n",
      "3       1:06:00      Sunday              18-30          Male   \n",
      "4       1:06:00      Sunday              18-30          Male   \n",
      "...         ...         ...                ...           ...   \n",
      "12311  16:15:00   Wednesday              31-50          Male   \n",
      "12312  18:00:00      Sunday            Unknown          Male   \n",
      "12313  13:55:00      Sunday            Over 51          Male   \n",
      "12314  13:55:00      Sunday              18-30        Female   \n",
      "12315  13:55:00      Sunday              18-30          Male   \n",
      "\n",
      "        Educational_level Vehicle_driver_relation Driving_experience  \\\n",
      "0       Above high school                Employee              1-2yr   \n",
      "1      Junior high school                Employee         Above 10yr   \n",
      "2      Junior high school                Employee              1-2yr   \n",
      "3      Junior high school                Employee             5-10yr   \n",
      "4      Junior high school                Employee              2-5yr   \n",
      "...                   ...                     ...                ...   \n",
      "12311  Junior high school                Employee              2-5yr   \n",
      "12312   Elementary school                Employee             5-10yr   \n",
      "12313  Junior high school                Employee             5-10yr   \n",
      "12314  Junior high school                Employee         Above 10yr   \n",
      "12315  Junior high school                Employee             5-10yr   \n",
      "\n",
      "           Type_of_vehicle Owner_of_vehicle Service_year_of_vehicle  ...  \\\n",
      "0               Automobile            Owner              Above 10yr  ...   \n",
      "1      Public (> 45 seats)            Owner                 5-10yrs  ...   \n",
      "2          Lorry (41?100Q)            Owner                 unknown  ...   \n",
      "3      Public (> 45 seats)     Governmental                 unknown  ...   \n",
      "4               Automobile            Owner                 5-10yrs  ...   \n",
      "...                    ...              ...                     ...  ...   \n",
      "12311       Lorry (11?40Q)            Owner                 unknown  ...   \n",
      "12312           Automobile            Owner                 unknown  ...   \n",
      "12313                Bajaj            Owner                  2-5yrs  ...   \n",
      "12314      Lorry (41?100Q)            Owner                  2-5yrs  ...   \n",
      "12315                Other            Owner                  2-5yrs  ...   \n",
      "\n",
      "      Vehicle_movement   Casualty_class Sex_of_casualty Age_band_of_casualty  \\\n",
      "0       Going straight               na              na                   na   \n",
      "1       Going straight               na              na                   na   \n",
      "2       Going straight  Driver or rider            Male                31-50   \n",
      "3       Going straight       Pedestrian          Female                18-30   \n",
      "4       Going straight               na              na                   na   \n",
      "...                ...              ...             ...                  ...   \n",
      "12311   Going straight               na              na                   na   \n",
      "12312            Other               na              na                   na   \n",
      "12313            Other  Driver or rider            Male                31-50   \n",
      "12314            Other               na              na                   na   \n",
      "12315         Stopping       Pedestrian          Female                    5   \n",
      "\n",
      "      Casualty_severity Work_of_casuality Fitness_of_casuality  \\\n",
      "0                    na           unknown              unknown   \n",
      "1                    na           unknown              unknown   \n",
      "2                     3            Driver              unknown   \n",
      "3                     3            Driver               Normal   \n",
      "4                    na           unknown              unknown   \n",
      "...                 ...               ...                  ...   \n",
      "12311                na            Driver               Normal   \n",
      "12312                na            Driver               Normal   \n",
      "12313                 3            Driver               Normal   \n",
      "12314                na            Driver               Normal   \n",
      "12315                 3            Driver               Normal   \n",
      "\n",
      "                                     Pedestrian_movement  \\\n",
      "0                                       Not a Pedestrian   \n",
      "1                                       Not a Pedestrian   \n",
      "2                                       Not a Pedestrian   \n",
      "3                                       Not a Pedestrian   \n",
      "4                                       Not a Pedestrian   \n",
      "...                                                  ...   \n",
      "12311                                   Not a Pedestrian   \n",
      "12312                                   Not a Pedestrian   \n",
      "12313                                   Not a Pedestrian   \n",
      "12314                                   Not a Pedestrian   \n",
      "12315  Crossing from nearside - masked by parked or s...   \n",
      "\n",
      "                          Cause_of_accident Accident_severity  \n",
      "0                           Moving Backward     Slight Injury  \n",
      "1                                Overtaking     Slight Injury  \n",
      "2                 Changing lane to the left    Serious Injury  \n",
      "3                Changing lane to the right     Slight Injury  \n",
      "4                                Overtaking     Slight Injury  \n",
      "...                                     ...               ...  \n",
      "12311                         No distancing     Slight Injury  \n",
      "12312                         No distancing     Slight Injury  \n",
      "12313            Changing lane to the right    Serious Injury  \n",
      "12314  Driving under the influence of drugs     Slight Injury  \n",
      "12315            Changing lane to the right     Slight Injury  \n",
      "\n",
      "[12316 rows x 32 columns]\n"
     ]
    }
   ],
   "source": [
    "print(df)"
   ]
  },
  {
   "cell_type": "code",
   "execution_count": 10,
   "id": "98df133a-26ce-4611-be3a-5ceb08f2b33e",
   "metadata": {},
   "outputs": [
    {
     "name": "stdout",
     "output_type": "stream",
     "text": [
      "           Time Day_of_week Age_band_of_driver Sex_of_driver  \\\n",
      "0      17:02:00      Monday              18-30          Male   \n",
      "1      17:02:00      Monday              31-50          Male   \n",
      "2      17:02:00      Monday              18-30          Male   \n",
      "3       1:06:00      Sunday              18-30          Male   \n",
      "4       1:06:00      Sunday              18-30          Male   \n",
      "...         ...         ...                ...           ...   \n",
      "12311  16:15:00   Wednesday              31-50          Male   \n",
      "12312  18:00:00      Sunday            Unknown          Male   \n",
      "12313  13:55:00      Sunday            Over 51          Male   \n",
      "12314  13:55:00      Sunday              18-30        Female   \n",
      "12315  13:55:00      Sunday              18-30          Male   \n",
      "\n",
      "        Educational_level Vehicle_driver_relation Driving_experience  \\\n",
      "0       Above high school                Employee              1-2yr   \n",
      "1      Junior high school                Employee         Above 10yr   \n",
      "2      Junior high school                Employee              1-2yr   \n",
      "3      Junior high school                Employee             5-10yr   \n",
      "4      Junior high school                Employee              2-5yr   \n",
      "...                   ...                     ...                ...   \n",
      "12311  Junior high school                Employee              2-5yr   \n",
      "12312   Elementary school                Employee             5-10yr   \n",
      "12313  Junior high school                Employee             5-10yr   \n",
      "12314  Junior high school                Employee         Above 10yr   \n",
      "12315  Junior high school                Employee             5-10yr   \n",
      "\n",
      "           Type_of_vehicle Owner_of_vehicle Service_year_of_vehicle  ...  \\\n",
      "0               Automobile            Owner              Above 10yr  ...   \n",
      "1      Public (> 45 seats)            Owner                 5-10yrs  ...   \n",
      "2          Lorry (41?100Q)            Owner                 unknown  ...   \n",
      "3      Public (> 45 seats)     Governmental                 unknown  ...   \n",
      "4               Automobile            Owner                 5-10yrs  ...   \n",
      "...                    ...              ...                     ...  ...   \n",
      "12311       Lorry (11?40Q)            Owner                 unknown  ...   \n",
      "12312           Automobile            Owner                 unknown  ...   \n",
      "12313                Bajaj            Owner                  2-5yrs  ...   \n",
      "12314      Lorry (41?100Q)            Owner                  2-5yrs  ...   \n",
      "12315                Other            Owner                  2-5yrs  ...   \n",
      "\n",
      "      Vehicle_movement   Casualty_class Sex_of_casualty Age_band_of_casualty  \\\n",
      "0       Going straight               na              na                   na   \n",
      "1       Going straight               na              na                   na   \n",
      "2       Going straight  Driver or rider            Male                31-50   \n",
      "3       Going straight       Pedestrian          Female                18-30   \n",
      "4       Going straight               na              na                   na   \n",
      "...                ...              ...             ...                  ...   \n",
      "12311   Going straight               na              na                   na   \n",
      "12312            Other               na              na                   na   \n",
      "12313            Other  Driver or rider            Male                31-50   \n",
      "12314            Other               na              na                   na   \n",
      "12315         Stopping       Pedestrian          Female                    5   \n",
      "\n",
      "      Casualty_severity Work_of_casuality Fitness_of_casuality  \\\n",
      "0                    na           unknown              unknown   \n",
      "1                    na           unknown              unknown   \n",
      "2                     3            Driver              unknown   \n",
      "3                     3            Driver               Normal   \n",
      "4                    na           unknown              unknown   \n",
      "...                 ...               ...                  ...   \n",
      "12311                na            Driver               Normal   \n",
      "12312                na            Driver               Normal   \n",
      "12313                 3            Driver               Normal   \n",
      "12314                na            Driver               Normal   \n",
      "12315                 3            Driver               Normal   \n",
      "\n",
      "                                     Pedestrian_movement  \\\n",
      "0                                       Not a Pedestrian   \n",
      "1                                       Not a Pedestrian   \n",
      "2                                       Not a Pedestrian   \n",
      "3                                       Not a Pedestrian   \n",
      "4                                       Not a Pedestrian   \n",
      "...                                                  ...   \n",
      "12311                                   Not a Pedestrian   \n",
      "12312                                   Not a Pedestrian   \n",
      "12313                                   Not a Pedestrian   \n",
      "12314                                   Not a Pedestrian   \n",
      "12315  Crossing from nearside - masked by parked or s...   \n",
      "\n",
      "                          Cause_of_accident Accident_severity  \n",
      "0                           Moving Backward     Slight Injury  \n",
      "1                                Overtaking     Slight Injury  \n",
      "2                 Changing lane to the left    Serious Injury  \n",
      "3                Changing lane to the right     Slight Injury  \n",
      "4                                Overtaking     Slight Injury  \n",
      "...                                     ...               ...  \n",
      "12311                         No distancing     Slight Injury  \n",
      "12312                         No distancing     Slight Injury  \n",
      "12313            Changing lane to the right    Serious Injury  \n",
      "12314  Driving under the influence of drugs     Slight Injury  \n",
      "12315            Changing lane to the right     Slight Injury  \n",
      "\n",
      "[12316 rows x 32 columns]\n"
     ]
    }
   ],
   "source": [
    "print(df)"
   ]
  },
  {
   "cell_type": "code",
   "execution_count": 11,
   "id": "e8ba377d-ee47-45c4-945e-7f38380e0857",
   "metadata": {},
   "outputs": [
    {
     "name": "stdout",
     "output_type": "stream",
     "text": [
      "Time                           0\n",
      "Day_of_week                    0\n",
      "Age_band_of_driver             0\n",
      "Sex_of_driver                  0\n",
      "Educational_level              0\n",
      "Vehicle_driver_relation        0\n",
      "Driving_experience             0\n",
      "Type_of_vehicle                0\n",
      "Owner_of_vehicle               0\n",
      "Service_year_of_vehicle        0\n",
      "Defect_of_vehicle              0\n",
      "Area_accident_occured          0\n",
      "Lanes_or_Medians               0\n",
      "Road_allignment                0\n",
      "Types_of_Junction              0\n",
      "Road_surface_type              0\n",
      "Road_surface_conditions        0\n",
      "Light_conditions               0\n",
      "Weather_conditions             0\n",
      "Type_of_collision              0\n",
      "Number_of_vehicles_involved    0\n",
      "Number_of_casualties           0\n",
      "Vehicle_movement               0\n",
      "Casualty_class                 0\n",
      "Sex_of_casualty                0\n",
      "Age_band_of_casualty           0\n",
      "Casualty_severity              0\n",
      "Work_of_casuality              0\n",
      "Fitness_of_casuality           0\n",
      "Pedestrian_movement            0\n",
      "Cause_of_accident              0\n",
      "Accident_severity              0\n",
      "dtype: int64\n"
     ]
    }
   ],
   "source": [
    "print(df.isnull().sum())"
   ]
  },
  {
   "cell_type": "code",
   "execution_count": 12,
   "id": "03af69fa-0161-43d5-b954-4129150ee59a",
   "metadata": {},
   "outputs": [
    {
     "name": "stdout",
     "output_type": "stream",
     "text": [
      "0        17:02:00\n",
      "1        17:02:00\n",
      "2        17:02:00\n",
      "3         1:06:00\n",
      "4         1:06:00\n",
      "           ...   \n",
      "12311    16:15:00\n",
      "12312    18:00:00\n",
      "12313    13:55:00\n",
      "12314    13:55:00\n",
      "12315    13:55:00\n",
      "Name: Time, Length: 12316, dtype: object\n"
     ]
    }
   ],
   "source": [
    "print(df['Time'])"
   ]
  },
  {
   "cell_type": "code",
   "execution_count": 13,
   "id": "9fbcac2a-32f3-435e-82b5-a932ca086481",
   "metadata": {},
   "outputs": [
    {
     "name": "stderr",
     "output_type": "stream",
     "text": [
      "C:\\Users\\SRINU\\AppData\\Local\\Temp\\ipykernel_15996\\1723526538.py:2: UserWarning: Could not infer format, so each element will be parsed individually, falling back to `dateutil`. To ensure parsing is consistent and as-expected, please specify a format.\n",
      "  df['hour']=pd.to_datetime(df['Time']).dt.hour\n"
     ]
    },
    {
     "name": "stdout",
     "output_type": "stream",
     "text": [
      "0        17\n",
      "1        17\n",
      "2        17\n",
      "3         1\n",
      "4         1\n",
      "         ..\n",
      "12311    16\n",
      "12312    18\n",
      "12313    13\n",
      "12314    13\n",
      "12315    13\n",
      "Name: hour, Length: 12316, dtype: int32\n"
     ]
    }
   ],
   "source": [
    "from datetime import datetime\n",
    "df['hour']=pd.to_datetime(df['Time']).dt.hour\n",
    "print(df['hour'])"
   ]
  },
  {
   "cell_type": "code",
   "execution_count": 14,
   "id": "1ef330de-e7b5-4445-9648-0474b4523421",
   "metadata": {},
   "outputs": [
    {
     "data": {
      "text/plain": [
       "<Axes: xlabel='hour', ylabel='count'>"
      ]
     },
     "execution_count": 14,
     "metadata": {},
     "output_type": "execute_result"
    },
    {
     "data": {
      "image/png": "[encoded data removed]",
      "text/plain": [
       "<Figure size 640x480 with 1 Axes>"
      ]
     },
     "metadata": {},
     "output_type": "display_data"
    }
   ],
   "source": [
    "import seaborn as sns\n",
    "sns.countplot(x='hour',data=df)"
   ]
  },
  {
   "cell_type": "code",
   "execution_count": 16,
   "id": "8d1c96e1-ec48-499d-8636-2acefb8c92f2",
   "metadata": {},
   "outputs": [
    {
     "name": "stdout",
     "output_type": "stream",
     "text": [
      "0                 Automobile\n",
      "1        Public (> 45 seats)\n",
      "2            Lorry (41?100Q)\n",
      "3        Public (> 45 seats)\n",
      "4                 Automobile\n",
      "                ...         \n",
      "12311         Lorry (11?40Q)\n",
      "12312             Automobile\n",
      "12313                  Bajaj\n",
      "12314        Lorry (41?100Q)\n",
      "12315                  Other\n",
      "Name: Type_of_vehicle, Length: 12316, dtype: object\n"
     ]
    }
   ],
   "source": [
    "print(df['Type_of_vehicle'])"
   ]
  },
  {
   "cell_type": "code",
   "execution_count": 22,
   "id": "413606bb-9639-40e1-81ac-b4b7e15c7abc",
   "metadata": {},
   "outputs": [
    {
     "name": "stdout",
     "output_type": "stream",
     "text": [
      "Type_of_vehicle\n",
      "Automobile              4155\n",
      "Lorry (41?100Q)         2186\n",
      "Other                   1208\n",
      "Pick up upto 10Q         811\n",
      "Public (12 seats)        711\n",
      "Stationwagen             687\n",
      "Lorry (11?40Q)           541\n",
      "Public (13?45 seats)     532\n",
      "Public (> 45 seats)      404\n",
      "Long lorry               383\n",
      "Taxi                     265\n",
      "Motorcycle               177\n",
      "Special vehicle           84\n",
      "Ridden horse              76\n",
      "Turbo                     46\n",
      "Bajaj                     29\n",
      "Bicycle                   21\n",
      "Name: count, dtype: int64\n"
     ]
    }
   ],
   "source": [
    "x=df['Type_of_vehicle'].value_counts()\n",
    "print(x)"
   ]
  },
  {
   "cell_type": "code",
   "execution_count": 29,
   "id": "f5f67690-7eda-42fe-b5cd-36f423fde4fc",
   "metadata": {},
   "outputs": [
    {
     "data": {
      "text/plain": [
       "Text(0.5, 0, 'count of accidents')"
      ]
     },
     "execution_count": 29,
     "metadata": {},
     "output_type": "execute_result"
    },
    {
     "data": {
      "image/png": "[encoded data removed]",
      "text/plain": [
       "<Figure size 1000x600 with 1 Axes>"
      ]
     },
     "metadata": {},
     "output_type": "display_data"
    }
   ],
   "source": [
    "import seaborn as sns\n",
    "import matplotlib.pyplot as pt\n",
    "pt.figure(figsize=(10,6))\n",
    "sns.countplot(y=\"Type_of_vehicle\",data=df,order=x.index)\n",
    "pt.xlabel(\"count of accidents\")"
   ]
  },
  {
   "cell_type": "code",
   "execution_count": 35,
   "id": "d8aee142-d116-4f9b-9ab5-774d885a342c",
   "metadata": {},
   "outputs": [
    {
     "name": "stdout",
     "output_type": "stream",
     "text": [
      "Age_band_of_driver\n",
      "18-30       34.678467\n",
      "31-50       33.184475\n",
      "Over 51     12.869438\n",
      "Unknown     12.569016\n",
      "Under 18     6.698603\n",
      "Name: count, dtype: float64\n"
     ]
    }
   ],
   "source": [
    "p=df[\"Age_band_of_driver\"].value_counts()/len(df)*100\n",
    "print(p)"
   ]
  },
  {
   "cell_type": "code",
   "execution_count": 49,
   "id": "432b84a0-7948-4dc0-a812-703d034149dd",
   "metadata": {},
   "outputs": [
    {
     "data": {
      "text/plain": [
       "Text(0.5, 0, 'Age groups involved in accidents')"
      ]
     },
     "execution_count": 49,
     "metadata": {},
     "output_type": "execute_result"
    },
    {
     "data": {
      "image/png": "[encoded data removed]",
      "text/plain": [
       "<Figure size 640x480 with 1 Axes>"
      ]
     },
     "metadata": {},
     "output_type": "display_data"
    }
   ],
   "source": [
    "pt.pie(p,labels=p.index,autopct='%1.0f%%',startangle=0)\n",
    "pt.xlabel(\"Age groups involved in accidents\")\n"
   ]
  },
  {
   "cell_type": "code",
   "execution_count": 53,
   "id": "ece1b9ed-ef9e-4858-8990-023a27b32837",
   "metadata": {},
   "outputs": [
    {
     "name": "stdout",
     "output_type": "stream",
     "text": [
      "Weather_conditions\n",
      "Normal               10063\n",
      "Raining               1331\n",
      "Other                  296\n",
      "Unknown                292\n",
      "Cloudy                 125\n",
      "Windy                   98\n",
      "Snow                    61\n",
      "Raining and Windy       40\n",
      "Fog or mist             10\n",
      "Name: count, dtype: int64\n"
     ]
    }
   ],
   "source": [
    "print(df['Weather_conditions'].value_counts())"
   ]
  },
  {
   "cell_type": "code",
   "execution_count": 54,
   "id": "d6cda9f7-edb2-4714-8fc4-77ac4bd52dca",
   "metadata": {},
   "outputs": [
    {
     "name": "stdout",
     "output_type": "stream",
     "text": [
      "0         Slight Injury\n",
      "1         Slight Injury\n",
      "2        Serious Injury\n",
      "3         Slight Injury\n",
      "4         Slight Injury\n",
      "              ...      \n",
      "12311     Slight Injury\n",
      "12312     Slight Injury\n",
      "12313    Serious Injury\n",
      "12314     Slight Injury\n",
      "12315     Slight Injury\n",
      "Name: Accident_severity, Length: 12316, dtype: object\n"
     ]
    }
   ],
   "source": [
    "print(df['Accident_severity'])"
   ]
  },
  {
   "cell_type": "code",
   "execution_count": 56,
   "id": "846adbf3-25e5-4b08-bc77-bf474b9b3f02",
   "metadata": {},
   "outputs": [
    {
     "name": "stdout",
     "output_type": "stream",
     "text": [
      "Accident_severity   Fatal injury  Serious Injury  Slight Injury\n",
      "Weather_conditions                                             \n",
      "Cloudy                         0               8            117\n",
      "Fog or mist                    0               1              9\n",
      "Normal                       135            1474           8454\n",
      "Other                          0              28            268\n",
      "Raining                       23             158           1150\n",
      "Raining and Windy              0               2             38\n",
      "Snow                           0               5             56\n",
      "Unknown                        0              51            241\n",
      "Windy                          0              16             82\n"
     ]
    }
   ],
   "source": [
    "severity_weather = pd.crosstab(df['Weather_conditions'], df['Accident_severity'])\n",
    "print(severity_weather)"
   ]
  },
  {
   "cell_type": "code",
   "execution_count": 61,
   "id": "c8265b94-af9f-4e47-ae0c-7c8c35cc728b",
   "metadata": {},
   "outputs": [
    {
     "data": {
      "image/png": "[encoded data removed]",
      "text/plain": [
       "<Figure size 1000x600 with 1 Axes>"
      ]
     },
     "metadata": {},
     "output_type": "display_data"
    }
   ],
   "source": [
    "import matplotlib.pyplot as plt\n",
    "import seaborn as sns\n",
    "plt.figure(figsize=(10,6))\n",
    "sns.countplot(\n",
    "    data=df,\n",
    "    y='Weather_conditions',\n",
    "    hue='Accident_severity'\n",
    ")\n",
    "plt.title('Accident Severity by Weather Condition')\n",
    "plt.xlabel('Number of Accidents')\n",
    "plt.ylabel('Weather Condition')\n",
    "plt.legend(title='Accident Severity')\n",
    "plt.show()"
   ]
  },
  {
   "cell_type": "code",
   "execution_count": 77,
   "id": "1bc6419c-f383-43df-a64a-ba8e88f3f945",
   "metadata": {},
   "outputs": [
    {
     "data": {
      "text/plain": [
       "Day_of_week\n",
       "Sunday       1467\n",
       "Saturday     1666\n",
       "Monday       1681\n",
       "Tuesday      1770\n",
       "Wednesday    1840\n",
       "Thursday     1851\n",
       "Friday       2041\n",
       "Name: count, dtype: int64"
      ]
     },
     "execution_count": 77,
     "metadata": {},
     "output_type": "execute_result"
    }
   ],
   "source": [
    "l=df['Day_of_week'].value_counts()\n",
    "l.sort_values()"
   ]
  },
  {
   "cell_type": "code",
   "execution_count": 79,
   "id": "751a374b-f5be-41f9-865c-4ef0f4eea752",
   "metadata": {},
   "outputs": [
    {
     "data": {
      "text/plain": [
       "Text(0, 0.5, 'no of accidents')"
      ]
     },
     "execution_count": 79,
     "metadata": {},
     "output_type": "execute_result"
    },
    {
     "data": {
      "image/png": "[encoded data removed]",
      "text/plain": [
       "<Figure size 640x480 with 1 Axes>"
      ]
     },
     "metadata": {},
     "output_type": "display_data"
    }
   ],
   "source": [
    "sns.countplot(x=\"Day_of_week\",data=df,order=l.index)\n",
    "pt.ylabel('no of accidents')"
   ]
  },
  {
   "cell_type": "code",
   "execution_count": 81,
   "id": "3e33845e-34f5-4760-b6c9-f7bb55b758e6",
   "metadata": {},
   "outputs": [
    {
     "name": "stdout",
     "output_type": "stream",
     "text": [
      "Area_accident_occured\n",
      "Other                              4058\n",
      "Office areas                       3451\n",
      "Residential areas                  2060\n",
      " Church areas                      1060\n",
      " Industrial areas                   456\n",
      "School areas                        415\n",
      "  Recreational areas                327\n",
      " Outside rural areas                218\n",
      " Hospital areas                     121\n",
      "  Market areas                       63\n",
      "Rural village areas                  44\n",
      "Unknown                              22\n",
      "Rural village areasOffice areas      20\n",
      "Recreational areas                    1\n",
      "Name: count, dtype: int64\n"
     ]
    }
   ],
   "source": [
    "print(df['Area_accident_occured'].value_counts())"
   ]
  },
  {
   "cell_type": "code",
   "execution_count": 2,
   "id": "1bdb2dd6-dc5d-439c-968a-1637c6393c2a",
   "metadata": {},
   "outputs": [
    {
     "name": "stdout",
     "output_type": "stream",
     "text": [
      "p-venkatesh3005\n"
     ]
    }
   ],
   "source": [
    "!git config --global user.name"
   ]
  },
  {
   "cell_type": "code",
   "execution_count": 4,
   "id": "92634375-bc6a-44ea-952d-a8c7efc6fa4a",
   "metadata": {},
   "outputs": [
    {
     "name": "stderr",
     "output_type": "stream",
     "text": [
      "'pwd' is not recognized as an internal or external command,\n",
      "operable program or batch file.\n"
     ]
    }
   ],
   "source": [
    "!pwd"
   ]
  },
  {
   "cell_type": "code",
   "execution_count": null,
   "id": "42a1ceb2-59ba-4671-a303-c5b8362f6cff",
   "metadata": {},
   "outputs": [],
   "source": []
  }
 ],
 "metadata": {
  "kernelspec": {
   "display_name": "Python 3 (ipykernel)",
   "language": "python",
   "name": "python3"
  },
  "language_info": {
   "codemirror_mode": {
    "name": "ipython",
    "version": 3
   },
   "file_extension": ".py",
   "mimetype": "text/x-python",
   "name": "python",
   "nbconvert_exporter": "python",
   "pygments_lexer": "ipython3",
   "version": "3.13.5"
  }
 },
 "nbformat": 4,
 "nbformat_minor": 5
}
